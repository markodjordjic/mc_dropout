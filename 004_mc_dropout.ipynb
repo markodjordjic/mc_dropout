{
 "cells": [
  {
   "cell_type": "markdown",
   "metadata": {},
   "source": [
    "# Model Designation"
   ]
  },
  {
   "cell_type": "markdown",
   "metadata": {},
   "source": [
    "The model developed in this use case belongs to the class of supervised deep learning models for solving regression tasks. Here are further explanations regarding the designation of the model.\n",
    "\n",
    "- Supervised means that there is a reference against which performance of the model can be objectivley evaluated, within a formal protocol for evaluating models for solving regression tasks.\n",
    "\n",
    "- Deep learning means that the model will be based on the technology of artificial neural networks (ANNs), which significantly differs in comparison to the classical ML models, when it comes to the methodology of model training and testing, usage of computational resources, and most importantly, logic for making inferences which model obtains after completion of training process.\n",
    "\n",
    "- Regression means that the objective of a model is to predict numerical value (members of the set of real numbers) whichoriginte from a continous distribution. (As opposed to classification tasks in which the objective is to predict the integers originating from discrete distribution.) \n",
    "\n",
    "Fianally it is important to add, that the model will be designed in such manner that it is possible to evaluate the degree of confidence whihc model has in its own predictions. The basis for this methodology of model development is presented in \"What my deep model doesn't know...\" (Gal, Y, 2015). Even though this property is a propery of probabilistic ML models, in my oppinion, it is not possible to designate this model as probabilistic."
   ]
  },
  {
   "cell_type": "markdown",
   "metadata": {},
   "source": [
    "# Objective of Learning Task\n",
    "\n",
    "Objective of the learning task is to predict the \"temperature in kitchen area\" in degrees of Celsius, on the basis of other variables present in the \"Appliances energy prediction Data Set\" available from the UCI Machine Learning Repository. Reader is encouraged to learn more about the data set in question, having in mind that the emphasis of this use case is on the uncertainty estimate, rather than on data analysis and data exploration."
   ]
  },
  {
   "cell_type": "markdown",
   "metadata": {},
   "source": [
    "# Technology Stack\n",
    "\n",
    "Python programing language has been selected for the purposes of model development. Virtualenv package is utilized for generation of specific environment. Model development is done in Keras, while computatuion is done in TensorFlow, with Eigen as the BLAS computational backend. Data manitpulation is mostly done in numpy because there is there is no pronunced need to use labeled feature and target vectors. Usage of these technologies is encouraged in order to gain repodocuible results."
   ]
  },
  {
   "cell_type": "markdown",
   "metadata": {},
   "source": [
    "# Methodology of Model Training and Testing\n",
    "\n",
    "Modeling process follows basic methodology for training and testing of models which solve regression tasks.\n",
    "\n",
    "- The data set is split to training, validation, and testing set.\n",
    "- A simplistic dropout self-normalizing feed-forward (FFD) ANN is constructed and trained.\n",
    "- Training process continues until no reduction of loss on validation set is recorded for two non-consecutive epoch. Minimal increase in reduction of loss, that needs to be achieved between two non-consecutive epochs, is 0.01 MSE.\n",
    "- After completion of the training process, model performance is evaluated on the test set. Main component of model performance is its accuracy, which is measured as MAE. Model generalization ability, as the second component of the model performance, is only briefly evaluated.\n",
    "- Finally, alongside the evaluation of model accuracy, an extensive evaluation of confidence of model into its predictions is made. This uncertianty analysis is the main aspect of use case.\n",
    "\n",
    "No cross-validation or model fine tuning is performed. The reasoning behind such a simplistic approach to model training and testing, is driven by limitations of the model development environment, especially in the terms of computational resources. Therefore, methodology of model training and testing is designed to meet the requirements of fast development and low computational effort, rather than designed to find best solution in terms of model's generalization ability and accuracy. Model training and testing proces would greatly benefit from introduction of hyper-parameter tuning and cross validation.\n",
    "\n",
    "Also, it is important to take into account that the main purpose of the use-case is to establish usefullness of the methodology for unceritanty estimation developed by Y. Gal (2015).\n"
   ]
  },
  {
   "cell_type": "markdown",
   "metadata": {},
   "source": [
    "# Model Development"
   ]
  },
  {
   "cell_type": "markdown",
   "metadata": {},
   "source": [
    "First step is to import necessary packages."
   ]
  },
  {
   "cell_type": "code",
   "execution_count": 1,
   "metadata": {},
   "outputs": [
    {
     "name": "stderr",
     "output_type": "stream",
     "text": [
      "Using TensorFlow backend.\n"
     ]
    }
   ],
   "source": [
    "import pandas as pd\n",
    "import numpy as np\n",
    "from keras.layers import Input, Dense, Dropout, AlphaDropout\n",
    "from keras.models import Model\n",
    "from keras.callbacks import EarlyStopping\n",
    "import matplotlib.pyplot as plt"
   ]
  },
  {
   "cell_type": "markdown",
   "metadata": {},
   "source": [
    "Now, we proceed with declaration of a class for data holding the names of the features and targets. This class also preforms basic data preparation, hence the name of the class. However, further preparation of the data is performed downstream as well."
   ]
  },
  {
   "cell_type": "code",
   "execution_count": 2,
   "metadata": {},
   "outputs": [],
   "source": [
    "class PreparedData:\n",
    "    def __init__(self, inn):\n",
    "        self.original_data = inn\n",
    "        self.prepared_data = None\n",
    "        self.feature_labels = None\n",
    "        self.target_labels = None\n",
    "        # Assign index and convert to date.\n",
    "        out = inn.copy(deep=True)\n",
    "        out.index = pd.to_datetime(inn['date'])\n",
    "        # Drop unnecessary columns.\n",
    "        out.drop(columns=['date', 'rv1', 'rv2'], inplace=True)\n",
    "        # Get labels.\n",
    "        target_labels = [\n",
    "            label for label in inn.columns if\n",
    "            ('T1' in label)\n",
    "            & ('_out' not in label)\n",
    "            & ('Tdewpoint' not in label)\n",
    "        ]\n",
    "        feature_labels = set(out.columns) - set(target_labels)\n",
    "        self.prepared_data = out\n",
    "        self.feature_labels = feature_labels\n",
    "        self.target_labels = target_labels"
   ]
  },
  {
   "cell_type": "markdown",
   "metadata": {},
   "source": [
    "The purpose of the following function is to create a subset of data by selecting desired columns."
   ]
  },
  {
   "cell_type": "code",
   "execution_count": 3,
   "metadata": {},
   "outputs": [],
   "source": [
    "def subset_columns(frame, columns):\n",
    "    \"\"\"\n",
    "    Return numpy array wh. subset of columns.\n",
    "    \"\"\"\n",
    "    return np.array(frame.loc[:, columns])"
   ]
  },
  {
   "cell_type": "markdown",
   "metadata": {},
   "source": [
    "Previous function is then followed with two utility functions. One, to make feature data sets."
   ]
  },
  {
   "cell_type": "code",
   "execution_count": 4,
   "metadata": {},
   "outputs": [],
   "source": [
    "def make_features(training_frame,\n",
    "                  validation_frame,\n",
    "                  testing_frame,\n",
    "                  feature_columns):\n",
    "    \"\"\"\n",
    "    Return a features for training, validation, and testing.\n",
    "    \"\"\"\n",
    "    return (\n",
    "        subset_columns(\n",
    "            frame=training_frame,\n",
    "            columns=feature_columns,\n",
    "        ),\n",
    "        subset_columns(\n",
    "            frame=validation_frame,\n",
    "            columns=feature_columns,\n",
    "        ),\n",
    "        subset_columns(\n",
    "            frame=testing_frame,\n",
    "            columns=feature_columns\n",
    "        )\n",
    "    )"
   ]
  },
  {
   "cell_type": "markdown",
   "metadata": {},
   "source": [
    "And another to make targets datata sets."
   ]
  },
  {
   "cell_type": "code",
   "execution_count": 5,
   "metadata": {},
   "outputs": [],
   "source": [
    "def make_targets(training_frame,\n",
    "                 validation_frame,\n",
    "                 testing_frame,\n",
    "                 targets_columns):\n",
    "    \"\"\"\n",
    "    Return a features for training, validation, and testing.\n",
    "    \"\"\"\n",
    "    return (\n",
    "        subset_columns(\n",
    "            frame=training_frame,\n",
    "            columns=targets_columns,\n",
    "        ),\n",
    "        subset_columns(\n",
    "            frame=validation_frame,\n",
    "            columns=targets_columns,\n",
    "        ),\n",
    "        subset_columns(\n",
    "            frame=testing_frame,\n",
    "            columns=targets_columns\n",
    "        )\n",
    "    )"
   ]
  },
  {
   "cell_type": "markdown",
   "metadata": {},
   "source": [
    "For the purposes of removing redundant code, these two utiliti functions could be merged into single one. Next, utility funcitions are complemented with the function to standardize data."
   ]
  },
  {
   "cell_type": "code",
   "execution_count": 6,
   "metadata": {},
   "outputs": [],
   "source": [
    "def compute_mean_and_standard_deviation(table):\n",
    "    \"\"\"\n",
    "    Return mean and standard deviation of the table.\n",
    "    \"\"\"\n",
    "    return np.mean(table, axis=0), np.std(table, axis=0)"
   ]
  },
  {
   "cell_type": "markdown",
   "metadata": {},
   "source": [
    "Afterwards, declaration of the model is placed into a separate function."
   ]
  },
  {
   "cell_type": "code",
   "execution_count": 7,
   "metadata": {},
   "outputs": [],
   "source": [
    "def get_model(dimensionality_of_input):\n",
    "    \"\"\"\n",
    "    Return model.\n",
    "    \"\"\"\n",
    "    # Declare input layer.\n",
    "    input_layer = Input(shape=(dimensionality_of_input, ))\n",
    "    # Dropout for input layer.\n",
    "    dropout_1 = Dropout(rate=.2)(input_layer, training=True)\n",
    "    # Declare regression layer.\n",
    "    regression_1 = Dense(\n",
    "        units=32,\n",
    "        activation='selu',\n",
    "        kernel_initializer='lecun_normal'\n",
    "    )(dropout_1)\n",
    "    # Dropout for regression layer.\n",
    "    dropout_2 = AlphaDropout(rate=.5)(regression_1, training=True)\n",
    "    # Declare regression layer.\n",
    "    regression_2 = Dense(\n",
    "        units=32,\n",
    "        activation='selu',\n",
    "        kernel_initializer='lecun_normal'\n",
    "    )(dropout_2)\n",
    "    # Dropout for regression layer.\n",
    "    dropout_3 = AlphaDropout(rate=.5)(regression_2, training=True)\n",
    "    # Declare output layer.\n",
    "    output = Dense(1, activation='linear')(dropout_3)\n",
    "    # Return model.\n",
    "    return Model(inputs=input_layer, outputs=output)"
   ]
  },
  {
   "cell_type": "markdown",
   "metadata": {},
   "source": [
    "Let us briefly elaborate the model architecture. The model is a simple three layer FFD ANN. In order to obtain uncertianty estimate dropout is added to every layer. Having in mind that, dropout mode nedeeds to be preserved while model is delivering predictions, argument \"training=True\" is passed in respective functions. Finally, the network is designed as self-normalizing network (SNN), and therefore we can find \"selu\" activation functions, and \"lecun_normal\" initialization. To summaryze, the network is MC dropout SN-FFD ANN."
   ]
  },
  {
   "cell_type": "markdown",
   "metadata": {},
   "source": [
    "In order to utilize this network, a function for generating predictions needs to be developed as well."
   ]
  },
  {
   "cell_type": "code",
   "execution_count": 8,
   "metadata": {},
   "outputs": [],
   "source": [
    "def get_stochastic_predictions(model_for_deployment, input_data, passes):\n",
    "    \"\"\"\n",
    "    Return stochastic predictions according to desired number of passes.\n",
    "    \"\"\"\n",
    "    # Declare a list to store predictions.\n",
    "    raw_predictions = []\n",
    "    for forward_pass in range(passes):\n",
    "        raw_predictions.append(\n",
    "            model_for_deployment.predict(\n",
    "                x=input_data, batch_size=len(input_data), verbose=0)\n",
    "        )\n",
    "    return np.transpose(np.reshape(\n",
    "        raw_predictions, newshape=(passes, len(input_data))\n",
    "    ))"
   ]
  },
  {
   "cell_type": "markdown",
   "metadata": {},
   "source": [
    "This function, generates model predictions through desired number of forward passes, collects the predictions of each pass and returns them as the numpy array."
   ]
  },
  {
   "cell_type": "markdown",
   "metadata": {},
   "source": [
    "Finally, we finish off with a function to generate a table for plotting and analysis of the results."
   ]
  },
  {
   "cell_type": "code",
   "execution_count": 9,
   "metadata": {},
   "outputs": [],
   "source": [
    "def get_table_for_plotting_predictions(targets, predictions, variance):\n",
    "    \"\"\"\n",
    "    Return table for plotting predictions.\n",
    "    \"\"\"\n",
    "    # Get table wh. data for plotting.\n",
    "    plotting_table = pd.DataFrame({\n",
    "        'targets': targets, 'predictions': predictions, 'variance': variance\n",
    "    })\n",
    "    plotting_table['upper_limit'] = \\\n",
    "        plotting_table['predictions'] + plotting_table['variance']\n",
    "    plotting_table['lower_limit'] = \\\n",
    "        plotting_table['predictions'] - plotting_table['variance']\n",
    "    return plotting_table"
   ]
  },
  {
   "cell_type": "markdown",
   "metadata": {},
   "source": [
    "Now we are ready to initiate the model development process. We firstley, get the data and instantiate \"PreparedData\" class."
   ]
  },
  {
   "cell_type": "code",
   "execution_count": 11,
   "metadata": {},
   "outputs": [],
   "source": [
    "if __name__ == '__main__':\n",
    "\n",
    "    # Declare file handles.\n",
    "    RAW_DATA = r'M:\\Projects\\004_mc_dropout\\1_data\\energydata_complete.csv'\n",
    "\n",
    "    # Get data.\n",
    "    raw_data = pd.read_csv(RAW_DATA, sep=',')\n",
    "\n",
    "    # Prepare data.\n",
    "    data_preparation = PreparedData(inn=raw_data)\n",
    "    prepared_data = data_preparation.prepared_data"
   ]
  },
  {
   "cell_type": "markdown",
   "metadata": {},
   "source": [
    "Then, we declare start and end timestamps for training, validation, and testing sets."
   ]
  },
  {
   "cell_type": "code",
   "execution_count": 12,
   "metadata": {},
   "outputs": [],
   "source": [
    "    # Declare limits for subsets of data set.\n",
    "    training_start = 0\n",
    "    training_end = int(len(prepared_data)/2 - len(prepared_data)/2*.1)\n",
    "    validation_start = int(len(prepared_data)/2 - len(prepared_data)/2*.1)\n",
    "    validation_end = int(len(prepared_data)/2)\n",
    "    testing_start = int(len(prepared_data)/2)\n",
    "    testing_end = len(prepared_data)"
   ]
  },
  {
   "cell_type": "markdown",
   "metadata": {},
   "source": [
    "Training data is subsetted first.\n"
   ]
  },
  {
   "cell_type": "code",
   "execution_count": 13,
   "metadata": {},
   "outputs": [],
   "source": [
    "    # Subset samples for training.\n",
    "    features_and_targets_for_training = \\\n",
    "        prepared_data.iloc[training_start:training_end, :]"
   ]
  },
  {
   "cell_type": "markdown",
   "metadata": {},
   "source": [
    "And here we can see the start, and end timestamps."
   ]
  },
  {
   "cell_type": "code",
   "execution_count": 14,
   "metadata": {},
   "outputs": [
    {
     "name": "stdout",
     "output_type": "stream",
     "text": [
      "Start of training: 2016-01-11 17:00:00. End of training: 2016-03-13 08:50:00.\n"
     ]
    }
   ],
   "source": [
    "    # Print starting and ending times.\n",
    "    print('Start of training: %s. End of training: %s.' % (\n",
    "        features_and_targets_for_training.index[0],\n",
    "        features_and_targets_for_training.index[-1]\n",
    "    ))"
   ]
  },
  {
   "cell_type": "raw",
   "metadata": {},
   "source": [
    "Training set is then shuffled."
   ]
  },
  {
   "cell_type": "code",
   "execution_count": 15,
   "metadata": {},
   "outputs": [],
   "source": [
    "    # Shuffle training set.\n",
    "    np.random.seed(0)\n",
    "    features_and_targets_for_training = \\\n",
    "        features_and_targets_for_training.iloc[\n",
    "            np.random.permutation(len(\n",
    "                features_and_targets_for_training\n",
    "            )), :\n",
    "        ]"
   ]
  },
  {
   "cell_type": "markdown",
   "metadata": {},
   "source": [
    "Then, we subset validation and testing set. No shuffling is done on these sets."
   ]
  },
  {
   "cell_type": "code",
   "execution_count": 16,
   "metadata": {},
   "outputs": [],
   "source": [
    "    # Subset samples for validation.\n",
    "    features_and_targets_for_validation = \\\n",
    "        prepared_data.iloc[validation_start:validation_end, :]\n",
    "\n",
    "    # Subset samples for testing.\n",
    "    features_and_targets_for_testing = \\\n",
    "        prepared_data.iloc[testing_start:testing_end, :]"
   ]
  },
  {
   "cell_type": "markdown",
   "metadata": {},
   "source": [
    "Let us take a look at start and end timestamps of these data sets."
   ]
  },
  {
   "cell_type": "code",
   "execution_count": 17,
   "metadata": {},
   "outputs": [
    {
     "name": "stdout",
     "output_type": "stream",
     "text": [
      "Start of validation: 2016-03-13 09:00:00. End of validation: 2016-03-20 05:20:00.\n",
      "Start of training: 2016-03-20 05:30:00. End of training: 2016-05-27 18:00:00.\n"
     ]
    }
   ],
   "source": [
    "    print('Start of validation: %s. End of validation: %s.' % (\n",
    "        features_and_targets_for_validation.index[0],\n",
    "        features_and_targets_for_validation.index[-1]\n",
    "    ))\n",
    "    print('Start of training: %s. End of training: %s.' % (\n",
    "        features_and_targets_for_testing.index[0],\n",
    "        features_and_targets_for_testing.index[-1]\n",
    "    ))"
   ]
  },
  {
   "cell_type": "markdown",
   "metadata": {},
   "source": [
    "Now, we can move on and subset features."
   ]
  },
  {
   "cell_type": "code",
   "execution_count": 18,
   "metadata": {},
   "outputs": [],
   "source": [
    "    # Get features.\n",
    "    features_training, features_validation, features_testing = \\\n",
    "        make_features(\n",
    "            training_frame=features_and_targets_for_training,\n",
    "            validation_frame=features_and_targets_for_validation,\n",
    "            testing_frame=features_and_targets_for_testing,\n",
    "            feature_columns=data_preparation.feature_labels,\n",
    "        )"
   ]
  },
  {
   "cell_type": "markdown",
   "metadata": {},
   "source": [
    "And also, subset targets."
   ]
  },
  {
   "cell_type": "code",
   "execution_count": 19,
   "metadata": {},
   "outputs": [],
   "source": [
    "    # Get targets.\n",
    "    y_train, y_validation, y_test = make_targets(\n",
    "        training_frame=features_and_targets_for_training,\n",
    "        validation_frame=features_and_targets_for_validation,\n",
    "        testing_frame=features_and_targets_for_testing,\n",
    "        targets_columns=data_preparation.target_labels,\n",
    "    )"
   ]
  },
  {
   "cell_type": "markdown",
   "metadata": {},
   "source": [
    "Now it is time to compute the mean and standard deviation of the training set."
   ]
  },
  {
   "cell_type": "code",
   "execution_count": 20,
   "metadata": {},
   "outputs": [],
   "source": [
    "    # Get mean and standard deviation of training features.\n",
    "    mean, standard_deviation = compute_mean_and_standard_deviation(\n",
    "        table=features_training\n",
    "    )"
   ]
  },
  {
   "cell_type": "markdown",
   "metadata": {},
   "source": [
    "And, then it is possible to use these to standardize training set, as well as to rescale validation and tesing set to the units of training set."
   ]
  },
  {
   "cell_type": "code",
   "execution_count": 21,
   "metadata": {},
   "outputs": [],
   "source": [
    "    # Standardize training, validation, and testing features.\n",
    "    x_train = (features_training-mean) / standard_deviation\n",
    "    x_validation = (features_validation-mean) / standard_deviation\n",
    "    x_test = (features_testing-mean) / standard_deviation"
   ]
  },
  {
   "cell_type": "markdown",
   "metadata": {},
   "source": [
    "Let us take a look at the variances of the three sets."
   ]
  },
  {
   "cell_type": "code",
   "execution_count": 22,
   "metadata": {},
   "outputs": [
    {
     "name": "stdout",
     "output_type": "stream",
     "text": [
      "[1. 1. 1. 1. 1. 1. 1. 1. 1. 1. 1. 1. 1. 1. 1. 1. 1. 1. 1. 1. 1. 1. 1. 1.\n",
      " 1.]\n",
      "[0.87941373 0.74120142 0.16078519 0.41331868 0.04869117 0.0703394\n",
      " 0.20565271 0.58681752 0.6743218  0.10223157 1.15865454 0.3124564\n",
      " 0.54285796 1.09058073 1.18307181 0.41685807 1.93688439 0.16557348\n",
      " 0.06666029 0.27765162 0.30501772 0.75422202 1.3665739  0.25435944\n",
      " 0.65862733]\n",
      "[0.41874729 2.5185316  1.85421244 0.52631285 2.49731804 0.62236422\n",
      " 0.64130847 1.75868663 2.10412644 0.81455222 2.28147666 1.12648601\n",
      " 1.73711587 1.6243543  0.78632384 0.60882017 0.536103   0.61950162\n",
      " 0.369263   0.71785236 1.36839702 1.70935316 2.09215122 0.92568494\n",
      " 0.76336401]\n"
     ]
    }
   ],
   "source": [
    "    print(np.var(x_train, axis=0))\n",
    "    print(np.var(x_validation, axis=0))\n",
    "    print(np.var(x_test, axis=0))"
   ]
  },
  {
   "cell_type": "markdown",
   "metadata": {},
   "source": [
    "It is clear thath there is a shift in the distribution of the data, that is present in the validation, and testing set, where variance of variables assumes different values, far from 1. Let us get the model."
   ]
  },
  {
   "cell_type": "code",
   "execution_count": 28,
   "metadata": {},
   "outputs": [],
   "source": [
    "    # Get model.\n",
    "    model = get_model(dimensionality_of_input=np.shape(x_train)[1])"
   ]
  },
  {
   "cell_type": "markdown",
   "metadata": {},
   "source": [
    "Here is model summary."
   ]
  },
  {
   "cell_type": "code",
   "execution_count": 29,
   "metadata": {},
   "outputs": [
    {
     "name": "stdout",
     "output_type": "stream",
     "text": [
      "_________________________________________________________________\n",
      "Layer (type)                 Output Shape              Param #   \n",
      "=================================================================\n",
      "input_2 (InputLayer)         (None, 25)                0         \n",
      "_________________________________________________________________\n",
      "dropout_2 (Dropout)          (None, 25)                0         \n",
      "_________________________________________________________________\n",
      "dense_4 (Dense)              (None, 32)                832       \n",
      "_________________________________________________________________\n",
      "alpha_dropout_3 (AlphaDropou (None, 32)                0         \n",
      "_________________________________________________________________\n",
      "dense_5 (Dense)              (None, 32)                1056      \n",
      "_________________________________________________________________\n",
      "alpha_dropout_4 (AlphaDropou (None, 32)                0         \n",
      "_________________________________________________________________\n",
      "dense_6 (Dense)              (None, 1)                 33        \n",
      "=================================================================\n",
      "Total params: 1,921\n",
      "Trainable params: 1,921\n",
      "Non-trainable params: 0\n",
      "_________________________________________________________________\n"
     ]
    }
   ],
   "source": [
    "    # Print model summary.\n",
    "    model.summary()"
   ]
  },
  {
   "cell_type": "markdown",
   "metadata": {},
   "source": [
    "Next line compiles the model."
   ]
  },
  {
   "cell_type": "code",
   "execution_count": 30,
   "metadata": {},
   "outputs": [],
   "source": [
    "    # Compile model.\n",
    "    model.compile(\n",
    "        optimizer='Adam',\n",
    "        loss='mse',\n",
    "        metrics=['mae']\n",
    "    )"
   ]
  },
  {
   "cell_type": "markdown",
   "metadata": {},
   "source": [
    "Finally, the model is ready for training."
   ]
  },
  {
   "cell_type": "code",
   "execution_count": 31,
   "metadata": {},
   "outputs": [
    {
     "name": "stdout",
     "output_type": "stream",
     "text": [
      "Train on 8880 samples, validate on 987 samples\n",
      "Epoch 1/20\n",
      "8880/8880 [==============================] - 6s 660us/step - loss: 76.6278 - mean_absolute_error: 6.1714 - val_loss: 7.9878 - val_mean_absolute_error: 2.2714\n",
      "Epoch 2/20\n",
      "8880/8880 [==============================] - 6s 632us/step - loss: 2.4527 - mean_absolute_error: 1.1762 - val_loss: 1.0033 - val_mean_absolute_error: 0.8129\n",
      "Epoch 3/20\n",
      "8880/8880 [==============================] - 6s 632us/step - loss: 0.7900 - mean_absolute_error: 0.6691 - val_loss: 0.6922 - val_mean_absolute_error: 0.6599\n",
      "Epoch 4/20\n",
      "8880/8880 [==============================] - 6s 654us/step - loss: 0.6184 - mean_absolute_error: 0.5990 - val_loss: 0.7242 - val_mean_absolute_error: 0.6902\n",
      "Epoch 5/20\n",
      "8880/8880 [==============================] - 6s 628us/step - loss: 0.5449 - mean_absolute_error: 0.5622 - val_loss: 0.6202 - val_mean_absolute_error: 0.6439\n",
      "Epoch 6/20\n",
      "8880/8880 [==============================] - 6s 661us/step - loss: 0.5143 - mean_absolute_error: 0.5453 - val_loss: 0.5211 - val_mean_absolute_error: 0.5786\n",
      "Epoch 7/20\n",
      "8880/8880 [==============================] - 6s 642us/step - loss: 0.4846 - mean_absolute_error: 0.5251 - val_loss: 0.6189 - val_mean_absolute_error: 0.6359\n",
      "Epoch 8/20\n",
      "8880/8880 [==============================] - 6s 642us/step - loss: 0.4842 - mean_absolute_error: 0.5288 - val_loss: 0.5557 - val_mean_absolute_error: 0.6109\n",
      "Epoch 00008: early stopping\n"
     ]
    },
    {
     "data": {
      "text/plain": [
       "<keras.callbacks.History at 0x11d916246a0>"
      ]
     },
     "execution_count": 31,
     "metadata": {},
     "output_type": "execute_result"
    }
   ],
   "source": [
    "    # Fit model.\n",
    "    model.fit(\n",
    "        x=x_train,\n",
    "        y=y_train,\n",
    "        epochs=20,\n",
    "        batch_size=2,\n",
    "        shuffle=False,\n",
    "        validation_data=[\n",
    "            x_validation,\n",
    "            y_validation\n",
    "        ],\n",
    "        callbacks=[\n",
    "            EarlyStopping(\n",
    "                monitor='val_loss',\n",
    "                min_delta=0.01,\n",
    "                patience=2,\n",
    "                verbose=1\n",
    "            )\n",
    "        ]\n",
    "    )"
   ]
  },
  {
   "cell_type": "markdown",
   "metadata": {},
   "source": [
    "In order to get the predictions, we make a call to the function designed to do this."
   ]
  },
  {
   "cell_type": "code",
   "execution_count": 32,
   "metadata": {},
   "outputs": [],
   "source": [
    "    # Generate predictions.\n",
    "    predictions_table = get_stochastic_predictions(\n",
    "        model_for_deployment=model,\n",
    "        passes=30,\n",
    "        input_data=x_test,\n",
    "    )"
   ]
  },
  {
   "cell_type": "markdown",
   "metadata": {},
   "source": [
    "Now, we can compute the mean of all predictions."
   ]
  },
  {
   "cell_type": "code",
   "execution_count": 33,
   "metadata": {},
   "outputs": [],
   "source": [
    "    # Compute predictive mean.\n",
    "    mean_predictions = np.mean(predictions_table, axis=1)"
   ]
  },
  {
   "cell_type": "markdown",
   "metadata": {},
   "source": [
    "As well as variance of the predictions."
   ]
  },
  {
   "cell_type": "code",
   "execution_count": 34,
   "metadata": {},
   "outputs": [],
   "source": [
    "    # Compute variance.\n",
    "    variance_of_predictions = np.std(predictions_table, axis=1)\n",
    "    tau = 1**2*(1-.5)/(2*len(x_test)*0.001)\n",
    "    predictive_variance = variance_of_predictions + tau**-1"
   ]
  },
  {
   "cell_type": "markdown",
   "metadata": {},
   "source": [
    "For the purposes of the evaluation model performance, mean absolute error (MAE) is computed."
   ]
  },
  {
   "cell_type": "code",
   "execution_count": 35,
   "metadata": {},
   "outputs": [],
   "source": [
    "    # Compute accuracy (MAE).\n",
    "    mae = np.round(np.mean(np.abs(\n",
    "        y_test.flatten()-mean_predictions)), decimals=2\n",
    "    )"
   ]
  },
  {
   "cell_type": "markdown",
   "metadata": {},
   "source": [
    "In next line we create the table for plotting and analysis of the results. "
   ]
  },
  {
   "cell_type": "code",
   "execution_count": 36,
   "metadata": {},
   "outputs": [],
   "source": [
    "    # Get table wh. data for plotting.\n",
    "    table_for_plotting = get_table_for_plotting_predictions(\n",
    "        targets=y_test.flatten(),\n",
    "        predictions=mean_predictions,\n",
    "        variance=variance_of_predictions\n",
    "    )"
   ]
  },
  {
   "cell_type": "markdown",
   "metadata": {},
   "source": [
    "And now, let us take a look at the outcome."
   ]
  },
  {
   "cell_type": "code",
   "execution_count": 38,
   "metadata": {},
   "outputs": [
    {
     "data": {
      "text/plain": [
       "<matplotlib.legend.Legend at 0x11d91428b70>"
      ]
     },
     "execution_count": 38,
     "metadata": {},
     "output_type": "execute_result"
    },
    {
     "data": {
      "image/png": "[encoded data removed]",
      "text/plain": [
       "<Figure size 960.001x540 with 1 Axes>"
      ]
     },
     "metadata": {
      "needs_background": "light"
     },
     "output_type": "display_data"
    }
   ],
   "source": [
    "    # Plotting.\n",
    "    plt.figure(figsize=[26.6667*.5, 15*.5])\n",
    "    plt.plot(\n",
    "        table_for_plotting['targets'],\n",
    "        color='orangered',\n",
    "        linewidth=1\n",
    "    )\n",
    "    plt.plot(\n",
    "        table_for_plotting['predictions'],\n",
    "        color='dodgerblue',\n",
    "        linewidth=1\n",
    "    )\n",
    "    variance_band = plt.fill_between(\n",
    "        table_for_plotting.index,\n",
    "        table_for_plotting['predictions'] - table_for_plotting['variance'],\n",
    "        table_for_plotting['predictions'] + table_for_plotting['variance'],\n",
    "        alpha=1,\n",
    "        color='lightsteelblue',\n",
    "        linewidth=0,\n",
    "        label='1 SD range'\n",
    "    )\n",
    "    plt.title(\n",
    "        'Fit of Dropout SN FFD ANN with Uncertainty Estimate\\n(MAE=%s)'\n",
    "        %\n",
    "        str(mae)\n",
    "    )\n",
    "    plt.legend(loc=1)"
   ]
  },
  {
   "cell_type": "markdown",
   "metadata": {},
   "source": [
    "As we can see, the model with MC drouput gave predictive mean of the target variable, as well as the variance of the predictions. The analysis reveals that during testing model achieves accuracy of 1.01 degress of Celsius. Performence of the model, deteriorates towards the end of testing interval, and now thanks to the uncertianty estimate we can confirm that it is more likely, due to the shift in distribution of the incoming data, rather than the underlying function that was derived by the model. Furthermore, we can hypothesise that the models generalization ability is retained, because the MAE during validation is 0.61, which is not far away from the MAE in testing, which comprises the erros occuring because of the shift in the distribution of the incoming data."
   ]
  }
 ],
 "metadata": {
  "kernelspec": {
   "display_name": "Python 3",
   "language": "python",
   "name": "python3"
  },
  "language_info": {
   "codemirror_mode": {
    "name": "ipython",
    "version": 3
   },
   "file_extension": ".py",
   "mimetype": "text/x-python",
   "name": "python",
   "nbconvert_exporter": "python",
   "pygments_lexer": "ipython3",
   "version": "3.6.1"
  }
 },
 "nbformat": 4,
 "nbformat_minor": 2
}
